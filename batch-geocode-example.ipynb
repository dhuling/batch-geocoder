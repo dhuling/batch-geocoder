{
 "cells": [
  {
   "cell_type": "markdown",
   "metadata": {},
   "source": [
    "# Geopy Use and Examples"
   ]
  },
  {
   "cell_type": "code",
   "execution_count": 15,
   "metadata": {
    "collapsed": false
   },
   "outputs": [
    {
     "name": "stdout",
     "output_type": "stream",
     "text": [
      "Running geopy version: 1.11.0\n"
     ]
    }
   ],
   "source": [
    "import csv, time, pprint\n",
    "import geopy\n",
    "print \"Running geopy version: {0}\".format(geopy.__version__)\n"
   ]
  },
  {
   "cell_type": "markdown",
   "metadata": {},
   "source": [
    "### Each geopy geocoder is its own class"
   ]
  },
  {
   "cell_type": "code",
   "execution_count": 16,
   "metadata": {
    "collapsed": true
   },
   "outputs": [],
   "source": [
    "goog_geocoder = geopy.GoogleV3(scheme=\"http\")"
   ]
  },
  {
   "cell_type": "markdown",
   "metadata": {},
   "source": [
    "create instance of GoogleV3 API class, named my_geocoder. \n",
    "the new instance has a method called \"geocode\".\n",
    "executing the geocode method with an address as a parameter"
   ]
  },
  {
   "cell_type": "code",
   "execution_count": 17,
   "metadata": {
    "collapsed": false
   },
   "outputs": [
    {
     "name": "stdout",
     "output_type": "stream",
     "text": [
      "516 High St, Bellingham, WA 98225, USA\n"
     ]
    }
   ],
   "source": [
    "location = goog_geocoder.geocode(\"516 High Street, Bellingham, WA\")\n",
    "\n",
    "print location.address\n",
    "\n"
   ]
  },
  {
   "cell_type": "code",
   "execution_count": 18,
   "metadata": {
    "collapsed": false
   },
   "outputs": [
    {
     "name": "stdout",
     "output_type": "stream",
     "text": [
      "-122.485818, 48.7378138\n"
     ]
    }
   ],
   "source": [
    "print \"{0}, {1}\".format(location.longitude, location.latitude)"
   ]
  },
  {
   "cell_type": "code",
   "execution_count": 19,
   "metadata": {
    "collapsed": false
   },
   "outputs": [
    {
     "name": "stdout",
     "output_type": "stream",
     "text": [
      "{u'address_components': [{u'long_name': u'516',\n",
      "                          u'short_name': u'516',\n",
      "                          u'types': [u'street_number']},\n",
      "                         {u'long_name': u'High Street',\n",
      "                          u'short_name': u'High St',\n",
      "                          u'types': [u'route']},\n",
      "                         {u'long_name': u'Bellingham',\n",
      "                          u'short_name': u'Bellingham',\n",
      "                          u'types': [u'locality', u'political']},\n",
      "                         {u'long_name': u'Whatcom County',\n",
      "                          u'short_name': u'Whatcom County',\n",
      "                          u'types': [u'administrative_area_level_2',\n",
      "                                     u'political']},\n",
      "                         {u'long_name': u'Washington',\n",
      "                          u'short_name': u'WA',\n",
      "                          u'types': [u'administrative_area_level_1',\n",
      "                                     u'political']},\n",
      "                         {u'long_name': u'United States',\n",
      "                          u'short_name': u'US',\n",
      "                          u'types': [u'country', u'political']},\n",
      "                         {u'long_name': u'98225',\n",
      "                          u'short_name': u'98225',\n",
      "                          u'types': [u'postal_code']}],\n",
      " u'formatted_address': u'516 High St, Bellingham, WA 98225, USA',\n",
      " u'geometry': {u'bounds': {u'northeast': {u'lat': 48.7381904,\n",
      "                                          u'lng': -122.4852334},\n",
      "                           u'southwest': {u'lat': 48.7374372,\n",
      "                                          u'lng': -122.4864026}},\n",
      "               u'location': {u'lat': 48.7378138, u'lng': -122.485818},\n",
      "               u'location_type': u'ROOFTOP',\n",
      "               u'viewport': {u'northeast': {u'lat': 48.73916278029149,\n",
      "                                            u'lng': -122.4844690197085},\n",
      "                             u'southwest': {u'lat': 48.73646481970849,\n",
      "                                            u'lng': -122.4871669802915}}},\n",
      " u'place_id': u'ChIJhe-yKsqjhVQRmik_92_gxJ8',\n",
      " u'types': [u'premise']}\n"
     ]
    }
   ],
   "source": [
    "pprint.pprint( location.raw )"
   ]
  },
  {
   "cell_type": "code",
   "execution_count": 20,
   "metadata": {
    "collapsed": true
   },
   "outputs": [],
   "source": [
    "location = goog_geocoder.reverse(\"38.8977, -77.0365\", exactly_one = True)"
   ]
  },
  {
   "cell_type": "code",
   "execution_count": 21,
   "metadata": {
    "collapsed": false
   },
   "outputs": [
    {
     "name": "stdout",
     "output_type": "stream",
     "text": [
      "1600 Pennsylvania Ave NW, Washington, DC 20500, USA\n"
     ]
    }
   ],
   "source": [
    "print location.address\n"
   ]
  },
  {
   "cell_type": "code",
   "execution_count": 22,
   "metadata": {
    "collapsed": true
   },
   "outputs": [],
   "source": [
    "#Geocode file is simply a list of addresses in CSV format.\n",
    "my_address_list = \"add_list.csv\" #path to input csv\n",
    "\n",
    "output = \"output.csv\" #path to output file\n",
    "#empty containers we'll use later for comparing list items\n",
    "add_list = [] #empty address list\n",
    "rand_list = []\n",
    "\n",
    "#creating a list of addresses we want to geocode from a CSV file\n",
    "with open(my_address_list, 'rb') as csvfile:\n",
    "    reader = csv.reader(csvfile, delimiter=',')\n",
    "    for row in reader:\n",
    "        add_list.append(row[0])"
   ]
  },
  {
   "cell_type": "markdown",
   "metadata": {},
   "source": [
    "Open the CSV file and fill a list with the addresses to Geocode"
   ]
  },
  {
   "cell_type": "markdown",
   "metadata": {},
   "source": [
    "# Sort the list to decrease the calls to the API"
   ]
  },
  {
   "cell_type": "code",
   "execution_count": 23,
   "metadata": {
    "collapsed": false
   },
   "outputs": [
    {
     "name": "stdout",
     "output_type": "stream",
     "text": [
      "207\n"
     ]
    }
   ],
   "source": [
    "print len(add_list)\n",
    "add_list.sort()"
   ]
  },
  {
   "cell_type": "code",
   "execution_count": 24,
   "metadata": {
    "collapsed": true
   },
   "outputs": [],
   "source": [
    "#match is used to check if we've already geocoded the address\n",
    "match = []\n",
    "add = 0\n",
    "lat = 0\n",
    "longitude = 0"
   ]
  },
  {
   "cell_type": "code",
   "execution_count": 25,
   "metadata": {
    "collapsed": false
   },
   "outputs": [
    {
     "name": "stdout",
     "output_type": "stream",
     "text": [
      "using Google Geocoder\n",
      "1089 WA-4, Naselle, WA 98638, USA: Latitude = 46.363392, longitude = -123.767499\n",
      "Matched\n",
      "using Google Geocoder\n",
      "1092 WA-4, Naselle, WA 98638, USA: Latitude = 46.3625473, longitude = -123.767886\n",
      "Matched\n",
      "Matched\n",
      "using Google Geocoder\n",
      "1107 Salmon Creek Rd, Naselle, WA 98638, USA: Latitude = 46.407071, longitude = -123.677273\n",
      "Matched\n",
      "Matched\n",
      "using Google Geocoder\n",
      "1112 WA-4, Naselle, WA 98638, USA: Latitude = 46.360534, longitude = -123.767122\n",
      "using Google Geocoder\n",
      "1172 WA-4, Naselle, WA 98638, USA: Latitude = 46.35672, longitude = -123.760261\n",
      "using Google Geocoder\n",
      "1172 WA-4, Naselle, WA 98638, USA: Latitude = 46.35672, longitude = -123.760261\n",
      "Matched\n",
      "Matched\n",
      "Matched\n",
      "using Google Geocoder\n",
      "1192 WA-4, Naselle, WA 98638, USA: Latitude = 46.354911, longitude = -123.759188\n",
      "Matched\n",
      "Matched\n",
      "Matched\n",
      "Matched\n",
      "Matched\n",
      "using Google Geocoder\n",
      "1198 WA-4, Naselle, WA 98638, USA: Latitude = 46.355582, longitude = -123.758032\n",
      "Matched\n",
      "using Google Geocoder\n",
      "1829 198th Pl, Long Beach, WA 98631, USA: Latitude = 46.446014, longitude = -124.046831\n",
      "Matched\n",
      "Matched\n",
      "Matched\n",
      "Matched\n",
      "using Google Geocoder\n",
      "20 Spruce St, South Bend, WA 98586, USA: Latitude = 46.6642827, longitude = -123.8065854\n",
      "Matched\n",
      "Matched\n",
      "Matched\n",
      "Matched\n",
      "Matched\n",
      "using Google Geocoder\n",
      "20303 Pacific Way, Ocean Park, WA 98640, USA: Latitude = 46.4491919, longitude = -124.053167\n",
      "Matched\n",
      "Matched\n",
      "Matched\n",
      "Matched\n",
      "Matched\n",
      "using Google Geocoder\n",
      "21204 J Pl, Ocean Park, WA 98640, USA: Latitude = 46.5198711, longitude = -124.0541841\n",
      "Matched\n",
      "Matched\n",
      "Matched\n",
      "using Google Geocoder\n",
      "22416 S Pl, Ocean Park, WA 98640, USA: Latitude = 46.4649464, longitude = -124.046464\n",
      "Matched\n",
      "Matched\n",
      "Matched\n",
      "Matched\n",
      "using Google Geocoder\n",
      "22607 S Pl, Ocean Park, WA 98640, USA: Latitude = 46.4658964, longitude = -124.046651\n",
      "Matched\n",
      "Matched\n",
      "Matched\n",
      "Matched\n",
      "Matched\n",
      "using Google Geocoder\n",
      "2280 WA-6, Raymond, WA 98577, USA: Latitude = 46.560072, longitude = -123.562256\n",
      "Matched\n",
      "Matched\n",
      "using Google Geocoder\n",
      "23716 J Pl, Ocean Park, WA 98640, USA: Latitude = 46.47486, longitude = -124.05519\n",
      "Matched\n",
      "Matched\n",
      "Matched\n",
      "using Google Geocoder\n",
      "Ocean Park, WA, USA: Latitude = 46.4914875, longitude = -124.0501628\n",
      "Matched\n",
      "Matched\n",
      "Matched\n",
      "Matched\n",
      "using Google Geocoder\n",
      "2489 WA-105, Grayland, WA 98547, USA: Latitude = 46.784063, longitude = -124.085424\n",
      "Matched\n",
      "using Google Geocoder\n",
      "263 Raymond South Bend Rd, Raymond, WA 98577, USA: Latitude = 46.666243, longitude = -123.768762\n",
      "Matched\n",
      "Matched\n",
      "using Google Geocoder\n",
      "269 Elk Creek Rd, Raymond, WA 98577, USA: Latitude = 46.716133, longitude = -123.708381\n",
      "Matched\n",
      "using Google Geocoder\n",
      "269 Mill Creek Rd, Raymond, WA 98577, USA: Latitude = 46.646172, longitude = -123.620771\n",
      "Matched\n",
      "Matched\n",
      "Matched\n",
      "using Google Geocoder\n",
      "27012 North Pl, Ocean Park, WA 98640, USA: Latitude = 46.4984853, longitude = -124.0505495\n",
      "using Google Geocoder\n",
      "294 WA-105, Raymond, WA 98577, USA: Latitude = 46.681582, longitude = -123.76508\n",
      "using Google Geocoder\n",
      "29716 H St, Ocean Park, WA 98640, USA: Latitude = 46.5182, longitude = -124.056177\n",
      "Matched\n",
      "Matched\n",
      "Matched\n",
      "using Google Geocoder\n",
      "31211 North Pl, Ocean Park, WA 98640, USA: Latitude = 46.528632, longitude = -124.050861\n",
      "Matched\n",
      "Matched\n",
      "Matched\n",
      "Matched\n",
      "Matched\n",
      "using Google Geocoder\n",
      "32210 North Pl, Ocean Park, WA 98640, USA: Latitude = 46.535812, longitude = -124.050014\n",
      "Matched\n",
      "Matched\n",
      "Matched\n",
      "Matched\n",
      "using Google Geocoder\n",
      "32600 Ocean Park Ct, Brookings, OR 97415, USA: Latitude = 42.0720605, longitude = -124.3152165\n",
      "Matched\n",
      "Matched\n",
      "Matched\n",
      "Matched\n",
      "using Google Geocoder\n",
      "3739 WA-105, Grayland, WA 98547, USA: Latitude = 46.7398472, longitude = -124.0775673\n",
      "Matched\n",
      "Matched\n",
      "Matched\n",
      "Matched\n",
      "Matched\n",
      "Matched\n",
      "Matched\n",
      "using Google Geocoder\n",
      "719 Main St, Raymond, WA 98577, USA: Latitude = 46.674835, longitude = -123.7817999\n",
      "Matched\n",
      "Matched\n",
      "Matched\n",
      "Matched\n",
      "using Google Geocoder\n",
      "721 Willapa Ave, South Bend, WA 98586, USA: Latitude = 46.661219, longitude = -123.821025\n",
      "Matched\n",
      "Matched\n",
      "Matched\n",
      "Matched\n",
      "Matched\n",
      "using Google Geocoder\n",
      "722 Willapa Ave, South Bend, WA 98586, USA: Latitude = 46.660343, longitude = -123.820823\n",
      "Matched\n",
      "Matched\n",
      "Matched\n",
      "Matched\n",
      "using Google Geocoder\n",
      "727 McKinley Ave, Raymond, WA 98577, USA: Latitude = 46.6725574, longitude = -123.7428446\n",
      "Matched\n",
      "Matched\n",
      "Matched\n",
      "using Google Geocoder\n",
      "730 Willapa Ave, South Bend, WA 98586, USA: Latitude = 46.660337, longitude = -123.821813\n",
      "Matched\n",
      "Matched\n",
      "Matched\n",
      "Matched\n",
      "Matched\n",
      "Matched\n",
      "Matched\n",
      "Matched\n",
      "Matched\n",
      "Matched\n",
      "Matched\n",
      "Matched\n",
      "Matched\n",
      "Matched\n",
      "using Google Geocoder\n",
      "757 Willapa Rd, Raymond, WA 98577, USA: Latitude = 46.677057, longitude = -123.668925\n",
      "Matched\n",
      "using Google Geocoder\n",
      "828 Jackson Ave, Raymond, WA 98577, USA: Latitude = 46.675827, longitude = -123.744084\n",
      "Matched\n",
      "Matched\n",
      "Matched\n",
      "Matched\n",
      "using Google Geocoder\n",
      "853 US Route 101, Chinook, WA 98614, USA: Latitude = 46.280334, longitude = -123.951272\n"
     ]
    },
    {
     "ename": "AttributeError",
     "evalue": "'NoneType' object has no attribute 'latitude'",
     "output_type": "error",
     "traceback": [
      "\u001b[1;31m---------------------------------------------------------------------------\u001b[0m",
      "\u001b[1;31mAttributeError\u001b[0m                            Traceback (most recent call last)",
      "\u001b[1;32m<ipython-input-25-516d4d975d68>\u001b[0m in \u001b[0;36m<module>\u001b[1;34m()\u001b[0m\n\u001b[0;32m     33\u001b[0m                 \u001b[0mtime\u001b[0m\u001b[1;33m.\u001b[0m\u001b[0msleep\u001b[0m\u001b[1;33m(\u001b[0m\u001b[1;36m2\u001b[0m\u001b[1;33m)\u001b[0m\u001b[1;33m\u001b[0m\u001b[0m\n\u001b[0;32m     34\u001b[0m                 \u001b[0madd\u001b[0m \u001b[1;33m=\u001b[0m \u001b[0mi\u001b[0m\u001b[1;33m\u001b[0m\u001b[0m\n\u001b[1;32m---> 35\u001b[1;33m                 \u001b[0mlat\u001b[0m \u001b[1;33m=\u001b[0m \u001b[0mlocation\u001b[0m\u001b[1;33m.\u001b[0m\u001b[0mlatitude\u001b[0m\u001b[1;33m\u001b[0m\u001b[0m\n\u001b[0m\u001b[0;32m     36\u001b[0m                 \u001b[0mlongitude\u001b[0m \u001b[1;33m=\u001b[0m \u001b[0mlocation\u001b[0m\u001b[1;33m.\u001b[0m\u001b[0mlongitude\u001b[0m\u001b[1;33m\u001b[0m\u001b[0m\n",
      "\u001b[1;31mAttributeError\u001b[0m: 'NoneType' object has no attribute 'latitude'"
     ]
    }
   ],
   "source": [
    "with open(output, 'wb') as cs_out:\n",
    "    writer = csv.writer(cs_out, delimiter=',')\n",
    "    for i in add_list:\n",
    "        #if the current address matches the previous one, we use the same\n",
    "        #geocoding info so we don't spam the API needlessly\n",
    "        #print \"previous address: {0}\".format(add)\n",
    "        #print \"current address: {0}\".format(i)\n",
    "        if add == i:\n",
    "            print \"Matched\"\n",
    "            writer.writerow([add, lat, longitude])\n",
    "            \n",
    "        else:\n",
    "            try:\n",
    "                #first we'll try google's api, but if they reject our request\n",
    "                #then it will throw an exception, and the \"except\" statement\n",
    "                #below will catch it and change our geocoder to the OSM one\n",
    "                geolocator = geopy.GoogleV3(scheme=\"http\")\n",
    "                location = geolocator.geocode(i)\n",
    "                writer.writerow([i, location.latitude, location.longitude])\n",
    "                print \"using Google Geocoder\"\n",
    "                print \"{2}: Latitude = {0}, longitude = {1}\".format(location.latitude, location.longitude, location.address)\n",
    "            except Exception as e:\n",
    "                geolocator = geopy.Nominatim(scheme=\"http\")\n",
    "                location = geolocator.geocode(i)\n",
    "                writer.writerow([i, location.latitude, location.longitude])\n",
    "                print \"Using OSM\"\n",
    "                print \"{2}: Latitude = {0}, longitude = {1}\".format(location.latitude, location.longitude, location.address)\n",
    "                #We include a finally statement because no matter which geocoder we\n",
    "                #use we want to sleep for 5 seconds to not spam the API, and we\n",
    "                #need to write our locations to the disc, in this case a CSV\n",
    "                print e\n",
    "            finally: \n",
    "                time.sleep(2)\n",
    "                add = i\n",
    "                lat = location.latitude\n",
    "                longitude = location.longitude"
   ]
  },
  {
   "cell_type": "code",
   "execution_count": null,
   "metadata": {
    "collapsed": true
   },
   "outputs": [],
   "source": []
  }
 ],
 "metadata": {
  "kernelspec": {
   "display_name": "Python 2",
   "language": "python",
   "name": "python2"
  },
  "language_info": {
   "codemirror_mode": {
    "name": "ipython",
    "version": 2
   },
   "file_extension": ".py",
   "mimetype": "text/x-python",
   "name": "python",
   "nbconvert_exporter": "python",
   "pygments_lexer": "ipython2",
   "version": "2.7.10"
  }
 },
 "nbformat": 4,
 "nbformat_minor": 0
}
